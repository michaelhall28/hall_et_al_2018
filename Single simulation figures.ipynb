{
 "cells": [
  {
   "cell_type": "markdown",
   "metadata": {},
   "source": [
    "This notebook recreates Figure 5a-d and Figure 6a-b from Hall et al 2019.  \n",
    "\n",
    "Figures 5a-d show the change in the shape of the log first incomplete moment over time.  \n",
    "Figures 6a-b show the changing proportion of non-neutral clones across different clone sizes.  \n",
    "\n",
    "First the simulation must be run. This can take 10-20 minutes.  \n",
    "\n",
    "The plots can then be generated in the subsequent sections.  "
   ]
  },
  {
   "cell_type": "code",
   "execution_count": 1,
   "metadata": {
    "ExecuteTime": {
     "end_time": "2019-05-13T11:24:13.980564Z",
     "start_time": "2019-05-13T11:24:12.895530Z"
    }
   },
   "outputs": [],
   "source": [
    "import numpy as np\n",
    "import pandas as pd\n",
    "import matplotlib.pyplot as plt\n",
    "%matplotlib inline\n",
    "import matplotlib\n",
    "matplotlib.rcParams['figure.figsize'] = [8, 6]"
   ]
  },
  {
   "cell_type": "code",
   "execution_count": 2,
   "metadata": {
    "ExecuteTime": {
     "end_time": "2019-05-13T11:24:14.581543Z",
     "start_time": "2019-05-13T11:24:13.984313Z"
    }
   },
   "outputs": [],
   "source": [
    "import sys\n",
    "sys.path.append('/Users/mh28/PycharmProjects/incom_paper_repo/new_clean_repo/clone-competition-simulation/')\n",
    "from parameters import Parameters"
   ]
  },
  {
   "cell_type": "code",
   "execution_count": 3,
   "metadata": {
    "ExecuteTime": {
     "end_time": "2019-05-13T11:24:14.590914Z",
     "start_time": "2019-05-13T11:24:14.585515Z"
    }
   },
   "outputs": [],
   "source": [
    "from useful_functions import incomplete_moment"
   ]
  },
  {
   "cell_type": "code",
   "execution_count": 4,
   "metadata": {
    "ExecuteTime": {
     "end_time": "2019-05-13T11:24:14.601939Z",
     "start_time": "2019-05-13T11:24:14.596152Z"
    }
   },
   "outputs": [],
   "source": [
    "from FitnessClasses import MutationGenerator, NormalDist"
   ]
  },
  {
   "cell_type": "markdown",
   "metadata": {},
   "source": [
    "# Run a simulation"
   ]
  },
  {
   "cell_type": "code",
   "execution_count": 5,
   "metadata": {
    "ExecuteTime": {
     "end_time": "2019-05-13T11:42:28.577421Z",
     "start_time": "2019-05-13T11:24:14.604917Z"
    }
   },
   "outputs": [
    {
     "name": "stdout",
     "output_type": "stream",
     "text": [
      "============== Setting up ==============\n",
      "Using a grid of 500x500\n",
      "24750000 simulation_steps\n",
      "========================================\n",
      "371390 mutations to add\n",
      "Steps completed:\n",
      "500000, 1000000, 1500000, 2000000, 2500000, 3000000, 3500000, 4000000, 4500000, 5000000, 5500000, 6000000, 6500000, 7000000, 7500000, 8000000, 8500000, 9000000, 9500000, 10000000, 10500000, 11000000, 11500000, 12000000, 12500000, 13000000, 13500000, 14000000, 14500000, 15000000, 15500000, 16000000, 16500000, 17000000, 17500000, 18000000, 18500000, 19000000, 19500000, 20000000, 20500000, 21000000, 21500000, 22000000, 22500000, 23000000, 23500000, 24000000, 24500000, Finished 24750000 steps\n"
     ]
    }
   ],
   "source": [
    "# Run the simulation. Can take 10-20 minutes.\n",
    "np.random.seed(1)\n",
    "mutation_generator = MutationGenerator(combine_mutations='add', \n",
    "                                       mutation_distribution=NormalDist(std=0.1, mean=1.1),  \n",
    "                                       synonymous_proportion=0.99)\n",
    "division_rate = 0.033\n",
    "mutation_rate = 0.015\n",
    "\n",
    "max_time = 3000\n",
    "grid_size = 500\n",
    "num_cells = grid_size**2\n",
    "p = Parameters(algorithm='Moran2D', mutation_generator=mutation_generator, \n",
    "                  initial_cells=num_cells, progress=500000,\n",
    "                  division_rate=division_rate, max_time=max_time, mutation_rate=mutation_rate, \n",
    "                  samples=10)\n",
    "sim = p.get_simulator()\n",
    "sim.run_sim()\n",
    "sim.unsparsify()"
   ]
  },
  {
   "cell_type": "markdown",
   "metadata": {},
   "source": [
    "# Incomplete moment over time"
   ]
  },
  {
   "cell_type": "markdown",
   "metadata": {},
   "source": [
    "Figure 5"
   ]
  },
  {
   "cell_type": "code",
   "execution_count": 6,
   "metadata": {
    "ExecuteTime": {
     "end_time": "2019-05-13T11:42:28.590245Z",
     "start_time": "2019-05-13T11:42:28.580859Z"
    }
   },
   "outputs": [],
   "source": [
    "# Need a function to fit to the smallest 75% of the visible section\n",
    "def fit_straight_line_to_incomplete_moment(log_incom, x_range, fix_intercept=True):\n",
    "    \"\"\"The intercept we refer to here is when x=min_clone_size since this is the point we want to fix\n",
    "    We therefore will shift over the values by one to fit, then shift back to plot\n",
    "\n",
    "    incom will already be from clone size min_clone_size as the first entry\n",
    "    \"\"\"\n",
    "    # Force zero intercept\n",
    "    log_incom = log_incom - log_incom[0]\n",
    "    \n",
    "    slope = np.linalg.lstsq(np.vstack([x_range]).T, log_incom, rcond=None)[0]\n",
    "\n",
    "    return slope"
   ]
  },
  {
   "cell_type": "code",
   "execution_count": 7,
   "metadata": {
    "ExecuteTime": {
     "end_time": "2019-05-13T11:42:28.602206Z",
     "start_time": "2019-05-13T11:42:28.594109Z"
    }
   },
   "outputs": [],
   "source": [
    "def get_fitting_section(csd, fit_prop):\n",
    "    \"\"\"Find the clone size for which the cumulative total contains fit_prop of the total clones\"\"\"\n",
    "    csd[0] = 0  # Ensure we don't count clones of size zero\n",
    "    norm_csd = csd/csd.sum()\n",
    "    cumprop = np.cumsum(norm_csd)\n",
    "    ind = np.nonzero(cumprop > fit_prop)[0][0]+1  # The index after the last one we want\n",
    "    print('fitting to first', ind, 'values out of', len(csd))\n",
    "    return ind"
   ]
  },
  {
   "cell_type": "code",
   "execution_count": 8,
   "metadata": {
    "ExecuteTime": {
     "end_time": "2019-05-13T11:42:28.614672Z",
     "start_time": "2019-05-13T11:42:28.604892Z"
    }
   },
   "outputs": [],
   "source": [
    "times = [1200, 1800, 2400, 3000]"
   ]
  },
  {
   "cell_type": "code",
   "execution_count": 9,
   "metadata": {
    "ExecuteTime": {
     "end_time": "2019-05-13T11:42:35.064167Z",
     "start_time": "2019-05-13T11:42:28.618007Z"
    }
   },
   "outputs": [],
   "source": [
    "clone_size_dists = [sim.get_mutant_clone_size_distribution(t) for t in times]"
   ]
  },
  {
   "cell_type": "code",
   "execution_count": 10,
   "metadata": {
    "ExecuteTime": {
     "end_time": "2019-05-13T11:42:35.086889Z",
     "start_time": "2019-05-13T11:42:35.067887Z"
    }
   },
   "outputs": [],
   "source": [
    "incoms = [incomplete_moment(c) for c in clone_size_dists]"
   ]
  },
  {
   "cell_type": "code",
   "execution_count": 11,
   "metadata": {
    "ExecuteTime": {
     "end_time": "2019-05-13T11:42:35.107870Z",
     "start_time": "2019-05-13T11:42:35.090836Z"
    }
   },
   "outputs": [],
   "source": [
    "min_size = 100\n",
    "fit_prop = 0.75\n",
    "incom = incoms[0]\n",
    "\n",
    "def plot_fit_to_visible_section(index, min_size, fit_prop):\n",
    "    incom = incoms[index]\n",
    "    \n",
    "    plot_csd = clone_size_dists[index].copy()\n",
    "    plot_csd[:min_size] = 0 \n",
    "    plot_x = np.arange(min_size, len(incom))\n",
    "\n",
    "\n",
    "    fit_section = get_fitting_section(plot_csd, fit_prop=fit_prop)\n",
    "    fit_incom = incom[min_size:fit_section]\n",
    "    log_fit_incom = np.log(fit_incom)\n",
    "\n",
    "    fit_x = np.arange(len(log_fit_incom))\n",
    "    slope = fit_straight_line_to_incomplete_moment(log_fit_incom, fit_x)\n",
    "    intercept = log_fit_incom[0]\n",
    "\n",
    "    y = np.exp(slope * (plot_x - min_size) + intercept)  # Take exp because was fit to the log.\n",
    "    plt.plot(plot_x, y, 'r--')\n",
    "\n",
    "    plt.plot(range(min_size, len(incom)), incom[100:], 'k')\n",
    "    plt.plot(range(1, min_size), incom[1:min_size], 'k', alpha=0.3)\n",
    "    plt.yscale('log')\n",
    "    ylim = plt.gca().get_ylim()\n",
    "    plt.vlines(min_size, 0.0001, 2, linestyle='--', linewidth=1)\n",
    "    plt.ylim(ylim)\n",
    "    plt.xlim(left=0);"
   ]
  },
  {
   "cell_type": "code",
   "execution_count": 12,
   "metadata": {
    "ExecuteTime": {
     "end_time": "2019-05-13T11:42:37.345829Z",
     "start_time": "2019-05-13T11:42:35.114308Z"
    },
    "scrolled": false
   },
   "outputs": [
    {
     "name": "stdout",
     "output_type": "stream",
     "text": [
      "23 years\n",
      "fitting to first 219 values out of 315\n"
     ]
    },
    {
     "data": {
      "image/png": "[encoded data removed]",
      "text/plain": [
       "<Figure size 432x288 with 1 Axes>"
      ]
     },
     "metadata": {
      "needs_background": "light"
     },
     "output_type": "display_data"
    },
    {
     "name": "stdout",
     "output_type": "stream",
     "text": [
      "34 years\n",
      "fitting to first 185 values out of 789\n"
     ]
    },
    {
     "data": {
      "image/png": "[encoded data removed]",
      "text/plain": [
       "<Figure size 432x288 with 1 Axes>"
      ]
     },
     "metadata": {
      "needs_background": "light"
     },
     "output_type": "display_data"
    },
    {
     "name": "stdout",
     "output_type": "stream",
     "text": [
      "46 years\n",
      "fitting to first 264 values out of 1498\n"
     ]
    },
    {
     "data": {
      "image/png": "[encoded data removed]",
      "text/plain": [
       "<Figure size 432x288 with 1 Axes>"
      ]
     },
     "metadata": {
      "needs_background": "light"
     },
     "output_type": "display_data"
    },
    {
     "name": "stdout",
     "output_type": "stream",
     "text": [
      "57 years\n",
      "fitting to first 280 values out of 2362\n"
     ]
    },
    {
     "data": {
      "image/png": "[encoded data removed]",
      "text/plain": [
       "<Figure size 432x288 with 1 Axes>"
      ]
     },
     "metadata": {
      "needs_background": "light"
     },
     "output_type": "display_data"
    }
   ],
   "source": [
    "for i, t in enumerate(times):\n",
    "    print(int(t/52), 'years')\n",
    "    plot_fit_to_visible_section(i, min_size=100, fit_prop=0.75)\n",
    "    plt.show()"
   ]
  },
  {
   "cell_type": "markdown",
   "metadata": {},
   "source": [
    "# Proportion of non-neutral clone at different size ranges"
   ]
  },
  {
   "cell_type": "markdown",
   "metadata": {
    "ExecuteTime": {
     "end_time": "2019-05-09T09:04:28.349379Z",
     "start_time": "2019-05-09T09:04:28.342405Z"
    }
   },
   "source": [
    "Figure 6 a, b"
   ]
  },
  {
   "cell_type": "code",
   "execution_count": 13,
   "metadata": {
    "ExecuteTime": {
     "end_time": "2019-05-13T10:33:53.711764Z",
     "start_time": "2019-05-13T10:33:53.703210Z"
    }
   },
   "outputs": [],
   "source": [
    "colours = ['#b2182b','#ef8a62','#fddbc7','#d1e5f0','#67a9cf','#2166ac'][::-1]\n",
    "thresholds = [50, 100, 200, 400, 800]"
   ]
  },
  {
   "cell_type": "code",
   "execution_count": 14,
   "metadata": {
    "ExecuteTime": {
     "end_time": "2019-05-13T10:33:53.803948Z",
     "start_time": "2019-05-13T10:33:53.714975Z"
    }
   },
   "outputs": [],
   "source": [
    "# Selection 's'=synonymous, 'ns'=non-synonymous\n",
    "neutral_clone_sizes = sim.get_mutant_clone_sizes(selection='s', non_zero_only=True)  \n",
    "non_neutral_clone_sizes = sim.get_mutant_clone_sizes(selection='ns', non_zero_only=True)\n",
    "neutral_clone_sizes = np.sort(neutral_clone_sizes)\n",
    "non_neutral_clone_sizes = np.sort(non_neutral_clone_sizes)"
   ]
  },
  {
   "cell_type": "code",
   "execution_count": 15,
   "metadata": {
    "ExecuteTime": {
     "end_time": "2019-05-13T10:33:53.899759Z",
     "start_time": "2019-05-13T10:33:53.806560Z"
    }
   },
   "outputs": [],
   "source": [
    "neutral_counts = []\n",
    "non_neutral_counts = []\n",
    "last_threshold = 0\n",
    "for t in thresholds:\n",
    "    neutral_list = [n for n in neutral_clone_sizes if last_threshold <= n < t]\n",
    "    non_neutral_list = [n for n in non_neutral_clone_sizes if last_threshold <= n < t]\n",
    "    neutral_counts.append(len(neutral_list))\n",
    "    non_neutral_counts.append(len(non_neutral_list))\n",
    "    last_threshold = t\n",
    "    \n",
    "neutral_counts.append(len([n for n in neutral_clone_sizes if last_threshold <= n]))\n",
    "non_neutral_counts.append(len([n for n in non_neutral_clone_sizes if last_threshold <= n]))"
   ]
  },
  {
   "cell_type": "code",
   "execution_count": 16,
   "metadata": {
    "ExecuteTime": {
     "end_time": "2019-05-13T10:33:53.911476Z",
     "start_time": "2019-05-13T10:33:53.903918Z"
    }
   },
   "outputs": [],
   "source": [
    "non_neutral_proportions = [nn/(n+nn) for (n, nn) in zip(neutral_counts, non_neutral_counts)]"
   ]
  },
  {
   "cell_type": "code",
   "execution_count": 17,
   "metadata": {
    "ExecuteTime": {
     "end_time": "2019-05-13T10:33:54.428375Z",
     "start_time": "2019-05-13T10:33:53.915368Z"
    }
   },
   "outputs": [
    {
     "data": {
      "image/png": "[encoded data removed]",
      "text/plain": [
       "<Figure size 432x288 with 1 Axes>"
      ]
     },
     "metadata": {
      "needs_background": "light"
     },
     "output_type": "display_data"
    }
   ],
   "source": [
    "incom = incoms[-1]\n",
    "plt.plot(range(len(incom)), incom, 'k')\n",
    "plt.vlines(thresholds, 0.001, 1, linewidth=0.3)\n",
    "last_threshold = 0\n",
    "for t, c in zip(thresholds, colours):\n",
    "    plt.fill_betweenx([0.01, 1], last_threshold, t, alpha=0.5, color=c)\n",
    "    last_threshold = t\n",
    "xlim = plt.gca().get_xlim()\n",
    "plt.fill_betweenx([0.01, 1], last_threshold, xlim[1], alpha=0.5, color=colours[-1])\n",
    "\n",
    "plt.xlim(left=0, right=xlim[1])\n",
    "plt.ylim(top=1, bottom=0.01)\n",
    "plt.yscale('log')\n",
    "plt.xlabel('Clone size (cells)')\n",
    "plt.ylabel('First incomplete moment');"
   ]
  },
  {
   "cell_type": "code",
   "execution_count": 18,
   "metadata": {
    "ExecuteTime": {
     "end_time": "2019-05-13T10:33:54.682063Z",
     "start_time": "2019-05-13T10:33:54.438272Z"
    }
   },
   "outputs": [
    {
     "data": {
      "image/png": "[encoded data removed]",
      "text/plain": [
       "<Figure size 432x288 with 1 Axes>"
      ]
     },
     "metadata": {
      "needs_background": "light"
     },
     "output_type": "display_data"
    }
   ],
   "source": [
    "plt.bar(range(len(non_neutral_proportions)), non_neutral_proportions, color=colours, alpha=0.7)\n",
    "plt.ylabel('Non-neutral proportion')\n",
    "plt.xlabel('Clone size')\n",
    "plt.xticks(range(len(non_neutral_proportions)), \n",
    "           ['<50', '50-99', '100-199', '200-399', '400-799', '>=800'])\n",
    "plt.ylim(0, 1);"
   ]
  },
  {
   "cell_type": "code",
   "execution_count": null,
   "metadata": {},
   "outputs": [],
   "source": []
  }
 ],
 "metadata": {
  "kernelspec": {
   "display_name": "Python 3",
   "language": "python",
   "name": "python3"
  },
  "language_info": {
   "codemirror_mode": {
    "name": "ipython",
    "version": 3
   },
   "file_extension": ".py",
   "mimetype": "text/x-python",
   "name": "python",
   "nbconvert_exporter": "python",
   "pygments_lexer": "ipython3",
   "version": "3.6.8"
  },
  "toc": {
   "base_numbering": 1,
   "nav_menu": {},
   "number_sections": true,
   "sideBar": true,
   "skip_h1_title": false,
   "title_cell": "Table of Contents",
   "title_sidebar": "Contents",
   "toc_cell": false,
   "toc_position": {},
   "toc_section_display": "block",
   "toc_window_display": false
  }
 },
 "nbformat": 4,
 "nbformat_minor": 2
}
